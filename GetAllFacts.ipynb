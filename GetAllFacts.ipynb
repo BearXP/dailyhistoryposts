{
 "cells": [
  {
   "attachments": {},
   "cell_type": "markdown",
   "metadata": {},
   "source": [
    "Get the token from [here](https://api.tumblr.com/console)"
   ]
  },
  {
   "cell_type": "code",
   "execution_count": 5,
   "metadata": {},
   "outputs": [],
   "source": [
    "from dotenv import dotenv_values\n",
    "config = dotenv_values(\".env\")"
   ]
  },
  {
   "cell_type": "code",
   "execution_count": null,
   "metadata": {},
   "outputs": [],
   "source": [
    "import pytumblr\n",
    "\n",
    "client = pytumblr.TumblrRestClient(\n",
    "    config['consumer_key'],\n",
    "    config['consumer_secret'],\n",
    "    config['oauth_token'],\n",
    "    config['oauth_secret'],\n",
    ")\n",
    "\n",
    "client.info() # Grabs the current user information"
   ]
  },
  {
   "cell_type": "code",
   "execution_count": 19,
   "metadata": {},
   "outputs": [],
   "source": [
    "blogName = \"dailyhistoryposts\"\n",
    "posts = client.posts(blogName,limit=1398) # max 50ish at a time. Need to use offset...\n",
    "noPosts = posts[\"total_posts\"]"
   ]
  },
  {
   "cell_type": "code",
   "execution_count": 21,
   "metadata": {},
   "outputs": [],
   "source": [
    "# Save the posts\n",
    "import json\n",
    "with open(\"Logs/posts.json\", \"w\") as f:\n",
    "    json.dump(posts, f, indent=4)"
   ]
  },
  {
   "cell_type": "code",
   "execution_count": 36,
   "metadata": {},
   "outputs": [
    {
     "data": {
      "text/plain": [
       "{'July 14': ['July 14th, 1995: The Torres Straight Islander Flag is flown for the first time.'],\n",
       " 'July 13': ['July 13th, 1977: The Ogaden War, an eight-month long conflict between Somalia and Ethiopia, begins with a Somali invasion.'],\n",
       " 'July 12': ['July 12th, 1971: The Australian Aboriginal Flag is flown for the first time.ALT'],\n",
       " 'July 11': ['July 11th, 1893: Mikimoto Kōkichi\\xa0obtains the first cultured pearl.'],\n",
       " 'July 10': ['July 10th, 1806: For the first time, Indian sepoys mutiny against the British East India Company in the Vellore Mutiny.'],\n",
       " 'July 9': ['July 9th, 1763: Catherine the Great becomes Empress of Russia after the overthrow of her husband/second cousin, Peter III.'],\n",
       " 'July 8': ['July 8th, 1968: The Chrysler wildcat strike begins in Detroit, Michigan, United States. Part of the Dodge Revolutionary Union Movement (DRUM), a coalition of African-American workers, seeking concessions from Chrysler management and from the United Auto Workers.A wildcat strike is a strike taken by union workers without approval or union leadership.'],\n",
       " 'July 7': ['July 7th, 1928: Sliced bread is sold for the first time. '],\n",
       " 'July 6': ['July 6th, 1964: Malawi declares its independence from the United Kingdom.July 6th, 1966: Malawi becomes a republic. '],\n",
       " 'July 5': ['July 5th, 1934: In an event that will be called &lsquo;Bloody Thursday&rsquo;, police open fire on striking longshoremen in San Francisco, United States. Part of a strike in every port city on the American West Coast organized by the International Longshore and Warehouse Union, two died on Bloody Thursday. All told, during the 83 day strike, there were nine deaths, over a thousand injuries, and over 500 arrests, as well as deliberate destruction of property by police. The city police and the California National Guard had no deaths or injuries. '],\n",
       " 'July 4': [\"July 4th, 1898: The Newlands Resolution annexing the Lepupalika o Hawai'i (Republic of Hawaii) to the United States is passed by the United States Congress.\"],\n",
       " 'July 3': ['July 3rd, 1883: Franz Kafka, author of The Metamorphosis (among others), is born. He was Czech-Austrian and Jewish.ALT'],\n",
       " 'July 2': ['July 2nd, 1937: Amelia Earhart and navigator Fred Noonan send their last transmission over the Pacific Ocean before disappearing.'],\n",
       " 'July 1': ['July 1st, 1972: The first gay pride parade takes place in England. About 2,000 people marched through North London.'],\n",
       " 'June 30': ['June 30th, 1972: The first leap second is added to the UTC time system to make the precise International Atomic Time match the less precise observed solar time. 27 leap seconds have since been inserted in total, though the International Telecommunication Union is currently considering ending the practice.'],\n",
       " 'At 1': ['At 1:20am on June 28th, 1969 in New York City, police enter the Stonewall Inn to arrest crossdressers. In response to mass arrests and unprovoked police brutality, the crowd responds with violence and the Stonewall Riots, lasting 6 days, begin.'],\n",
       " 'June 27': ['June 27th, 1760: Aniyvwiyaʔi (Cherokee) warriors soundly defeat British forces at the Battle of Echoee in the Anglo-Cherokee War.'],\n",
       " 'June 26': ['June 26th, 2003: The Supreme Court of the United States rules in Lawrence v. Texas that gender-based anti-sodomy laws are unconstitutional, based on the same &ldquo;right to privacy&rdquo; that Roe v. Wade helped to establish. It is a 6-3 ruling.June 26th, 2013: The Supreme Court of the Unites States rules in United States v. Windsor that Section 3 of the Defense of Marriage Act (DOMA) that denied federal recognition of same-sex marriages was unconstitutional, based on the Due Process Clause of the Fifth Amendment. It is a 5-4 ruling.June 26th, 2015: The Supreme Court of the United States rules in Obergefell v. Hodges that the fundamental right to legally recognized marriages must be extended to same-sex couples, based on the Due Process Clause of the Fifth Amendment and the Equal Protection Clause of the Fourteenth Amendment. It is a 5-4 ruling.'],\n",
       " 'June 25': ['June 25th, 1658: Elena Cornaro Piscopia is the first woman awarded a doctorate of philosophy. '],\n",
       " 'June 24': [\"June 24th, 1973: Sylvia Rivera gives her &ldquo;Y'all Better Quiet Down&rdquo; speech.L020A Sylvia Rivera, “Y’all Better Quiet Down” Original Authorized Video, 1973 Gay Pride Rally NYC“I may be… You all better quiet down. I’ve been trying to get up here all day for your gay brothers and your gay sisters in jail that write me every motherfucking week and ask for your help, and you all don’t do a goddamn thing for them. Have you ever been beaten up and raped in jail? Now think about it. They’ve been beaten up and raped after they’ve had to spend much of their money in jail to get their self home and to try to get their sex changes. The women have tried to fight for their sex changes or to become women of the Women’s Liberation and they write STAR, not to the women’s groups, they do not write to men, they write STAR because we’re trying to do something for them. I have been to jail. I have been raped, and beaten. Many times. By men, heterosexual men that do not belong in the homosexual shelter. But, do you do anything for me? No. Youtell me to go and hide my tail between my legs. I will not put up with this shit. I have been beaten. I have had my nose broken. I have been thrown in jail. I have lost my job. I have lost my apartment for gay liberation and you all treat me this way? What the fuck’s wrong with you all? Think about that! I do not believe in a revolution, but you all do. I believe in the Gay Power. I believe in us getting our rights, or else I would not be out there fighting for our rights. That’s all I wanted to say to you people. If you all want to know about the people in jail – and do not forget Bambi L’Amour, Andorra Marks, Kenny Messner, and other gay people in jail – come and see the people at STARHouse on Twelfth Street on 640 East Twelfth Street between B and C apartment 14. The people are trying to do something for all of us, and not men and women that belong to a white, middle-class white club. And that’s what you all belong to! Revolution now! Gimme a ‘G’! Gimme an ‘A’! Gimme a ‘Y’! Gimme a ‘P’! Gimme an ‘O’! Gimme a ‘W’! Gimme an ‘E! Gimme an ‘R’! huh— Gay power. Louder! Gay Power!”\"],\n",
       " 'June 23': ['June 23rd, 1926: The College Board administers the first SAT (then Scholastic Aptitude Test, now the acronym officially stands for nothing).'],\n",
       " 'June 22': ['June 22nd, 1969: The Cuyahoga River in Ohio, USA catches on fire (again, this is just the most famous time. It caught on fire 13 times, all told), and helped spurn the American environmental movement, especially water protections.'],\n",
       " 'June 21': ['June 21st, 1898: The United States captures Guam from under Spanish control in a bloodless conflict. The Spanish garrison had been unaware the two nations were at war and thought the warning shots fired by the USS Charleston to be salutes.'],\n",
       " 'June 20': ['June 20th, 1921: Workers of Buckingham and Carnatic Mills in Madras (now Chennai), India, begin a four-month strike over poor working conditions, low wages, and brutal police response to early union action the year previous. Police would also respond violently here, resulting in the death of six workers.'],\n",
       " 'June 19': ['June 19th, 1862: The U.S. Congress prohibits slavery in United States territories, nullifying Dred Scott v. Sandford.June 19th, 1865: Slaves in Galveston, Texas, are officially informed of their freedom, three years after the Emancipation Proclamation. This is celebrated as Juneteenth in the United States and in some parts of Mexico.June 19th, 2021: Juneteenth is celebrated as a federal holiday in the United States for the first time.'],\n",
       " 'June 18': ['June 18th, 618: Li Yuan becomes Emperor Gaozu of Tang, beginning the imperial Tang dynasty. It would rule over China for three centuries.'],\n",
       " 'June 17': ['June 17th, 1877: The Nimíipuu (Nez Perce), an indigenous group in the Pacific Northwest, defeat the U.S. Cavalry at the Battle of White Bird Canyon.June 17th, 1960: The Nimíipuu (Nez Perce) is awarded $4 million for an undervalue of land from the 1863 &lsquo;Thief Treaty&rsquo;.'],\n",
       " 'June 16': ['June 16th, 1976: The Soweto uprising in South Africa. 20,000 Black students march peaceably in response to the introduction of Afrikaans, a Dutch language, as the language used in teaching across the country. The students were met with police brutality, and hundreds of students were killed.'],\n",
       " 'June 15': ['June 15th, 1667: The human first blood transfusion is administered by Dr. Denys.'],\n",
       " 'June 14': ['June 14th, 1954: US President Eisenhower legally changes the United States Pledge of Allegiance to include the words &ldquo;under God&rdquo;.'],\n",
       " 'June 13': ['June 13th, 1325: Explorer Ibn Battuta begins leaves his home in Tangiers to begin a 24 year journey.'],\n",
       " 'June 12': ['June 12th, 1967: The US Supreme Court rules in Loving v. Virginia. All US state laws prohibiting interracial marriage are unconstitutional.'],\n",
       " 'June 11': ['June 11th, 1986: American actor Shia LaBeouf is born.'],\n",
       " 'June 10': ['June 10th, 1924: Members of the Italian National Fascist Party kidnap and murder Socialist Giacomo Matteotti.'],\n",
       " 'June 9': ['June 9th53: Roman emperor Nero gets married to Claudia Octavia68: Roman emperor Nero quotes Vergil&rsquo;s Aeneid and kills himself.']}"
      ]
     },
     "execution_count": 36,
     "metadata": {},
     "output_type": "execute_result"
    }
   ],
   "source": [
    "import re\n",
    "def getFacts(posts):\n",
    "    headPattern = re.compile(r\"(<h1>[^<]*</h1>)\")\n",
    "    tagsPattern = re.compile(r\"(\\<[^\\>]*\\>)\")\n",
    "    hashtagPattern = re.compile(r\"^[a-z:]+:\")\n",
    "    datePattern = re.compile(r\"[A-Za-z]+\\s\\d{1,2}\")\n",
    "    facts = {}\n",
    "    count = 0\n",
    "    for post in posts[\"posts\"]:\n",
    "        count += 1\n",
    "        if post[\"summary\"] == \"On This Day In History\":\n",
    "            textRaw = post[\"body\"]\n",
    "            textWoHeading = re.sub(headPattern, \"\", textRaw)\n",
    "            textWoTags = re.sub(tagsPattern, \"\", textWoHeading)\n",
    "            text = re.sub(hashtagPattern, \"\", textWoTags)\n",
    "            dateMatch = re.findall(datePattern, text)\n",
    "            if dateMatch:\n",
    "                date = dateMatch[0]\n",
    "                existingFacts = facts.get(date, [])\n",
    "                if not text in existingFacts:\n",
    "                    existingFacts.append(text)\n",
    "                    facts[date] = existingFacts\n",
    "            else:\n",
    "                pass # On 29/June he forgot to add 'June' to the post, so it falls over. \n",
    "    return facts\n",
    "facts = getFacts(posts)\n",
    "facts\n",
    "    "
   ]
  },
  {
   "cell_type": "code",
   "execution_count": 44,
   "metadata": {},
   "outputs": [],
   "source": [
    "import os\n",
    "getFilename = lambda x: f\"Logs/PostPage_{x}.json\"\n",
    "offset = 0\n",
    "batchSize = 50 # max 50ish at a time. Need to use offset...\n",
    "allPostsReceived = False\n",
    "\n",
    "blogName = \"dailyhistoryposts\"\n",
    "facts = {}\n",
    "\n",
    "while not allPostsReceived:\n",
    "    filename = getFilename(offset)\n",
    "    if os.path.exists(filename):\n",
    "        with open(filename, \"r\") as f:\n",
    "            posts = json.load(f)\n",
    "    else:\n",
    "        posts = client.posts(blogName,limit=batchSize, offset=offset)\n",
    "        with open(f\"Logs/PostPage_{offset}.json\", \"w\") as f:\n",
    "            json.dump(posts, f, indent=4)\n",
    "    # Extract the facts from the posts\n",
    "    newFacts = getFacts(posts)\n",
    "    # Append the new facts to the existing facts, and then save the facts back\n",
    "    for date in list(newFacts.keys()):\n",
    "        existingFacts = facts.get(date, [])\n",
    "        for fact in newFacts[date]:\n",
    "            if not fact in existingFacts:\n",
    "                existingFacts.append(fact)\n",
    "        facts[date] = existingFacts\n",
    "    offset += batchSize\n",
    "    noPosts = posts[\"total_posts\"]\n",
    "    if offset >= noPosts:\n",
    "        allPostsReceived = True"
   ]
  },
  {
   "cell_type": "code",
   "execution_count": 42,
   "metadata": {},
   "outputs": [],
   "source": [
    "with open(\"facts.json\", \"w\") as f:\n",
    "    json.dump(facts, f, indent=4)"
   ]
  },
  {
   "cell_type": "code",
   "execution_count": 40,
   "metadata": {},
   "outputs": [
    {
     "data": {
      "text/plain": [
       "['January 5th, 1953: Waiting for Godot, considered the most significant English-language play of the 20th century, is premiered in Paris.',\n",
       " 'January 5th, 1914: The Ford Motor Company announces an eight-hour workday and minimum daily wage of $5 in salary plus bonuses.']"
      ]
     },
     "execution_count": 40,
     "metadata": {},
     "output_type": "execute_result"
    }
   ],
   "source": [
    "facts['January 5']"
   ]
  }
 ],
 "metadata": {
  "kernelspec": {
   "display_name": "venv",
   "language": "python",
   "name": "python3"
  },
  "language_info": {
   "codemirror_mode": {
    "name": "ipython",
    "version": 3
   },
   "file_extension": ".py",
   "mimetype": "text/x-python",
   "name": "python",
   "nbconvert_exporter": "python",
   "pygments_lexer": "ipython3",
   "version": "3.11.2"
  },
  "orig_nbformat": 4
 },
 "nbformat": 4,
 "nbformat_minor": 2
}
